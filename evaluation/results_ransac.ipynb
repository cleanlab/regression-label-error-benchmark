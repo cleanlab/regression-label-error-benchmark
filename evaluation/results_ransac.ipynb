{
 "cells": [
  {
   "cell_type": "markdown",
   "id": "ae426863",
   "metadata": {},
   "source": [
    "# Proportion of outliers for different datasets\n",
    "\n",
    "| datasets      | airquality\\_co | airquality\\_no2 | label\\_aggregation\\_random | metaphor\\_novelity\\_random | telomere\\_cq\\_telo |\n",
    "| ------------- | -------------- | --------------- | -------------------------- | -------------------------- | ------------------ |\n",
    "| before RANSAC | 5.1%           | 29%             | 33%                        | 21%                        | 5%                 |\n",
    "| after RANSAC  | 4.9%           | 29%             | 24%                        | 13%                        | 4%                 |"
   ]
  },
  {
   "attachments": {},
   "cell_type": "markdown",
   "id": "59cdd3ed",
   "metadata": {},
   "source": [
    "# Average improvement compared with residual scores\n",
    "## airquality\\_co \n",
    "| airquality\\_co           |        | auroc    | auprc    | lift\\_at\\_num\\_errors | lift\\_at\\_100 |\n",
    "| ------------------------ | ------ | -------- | -------- | --------------------- | ------------- |\n",
    "|                          | clean  | 0.76%    | 34.57%   | 22.15%                | 30.56%        |\n",
    "| LightGBM\\_BAG\\_L1        | whole  | \\-4.76%  | \\-10.24% | 4.55%                 | \\-14.29%      |\n",
    "|                          | RANSAC | \\-4.20%  | \\-12.94% | 0.00%                 | \\-6.25%       |\n",
    "|                          | clean  | \\-0.46%  | 27.86%   | 10.00%                | 47.83%        |\n",
    "| NeuralNetFastAI\\_BAG\\_L1 | whole  | 0.12%    | \\-8.90%  | 17.86%                | \\-10.00%      |\n",
    "|                          | RANSAC | 0.62%    | \\-8.42%  | \\-10.00%              | \\-7.69%       |\n",
    "|                          | clean  | 1.98%    | 44.56%   | 45.41%                | 6.38%         |\n",
    "| RandomForestMSE\\_BAG\\_L1 | whole  | \\-10.13% | \\-31.89% | \\-53.19%              | \\-52.94%      |\n",
    "|                          | RANSAC | \\-7.85%  | \\-26.99% | \\-21.43%              | \\-6.25%       |\n",
    "|                          | clean  | 1.58%    | 145.09%  | 62.65%                | 159.46%       |\n",
    "| WeightedEnsemble\\_L2\\_CV | whole  | \\-0.69%  | \\-6.81%  | 0.00%                 | \\-11.11%      |\n",
    "|                          | RANSAC | \\-1.07%  | \\-7.45%  | \\-4.76%               | \\-5.56%       |"
   ]
  },
  {
   "cell_type": "markdown",
   "id": "9cd1c7c6",
   "metadata": {},
   "source": [
    "## airquality\\_no2\n",
    "|                          |        | auroc  | auprc  | lift\\_at\\_num\\_errors | lift\\_at\\_100 |\n",
    "| ------------------------ | ------ | ------ | ------ | --------------------- | ------------- |\n",
    "|                          | clean  | 1.67%  | 6.63%  | 5.17%                 | 1.01%         |\n",
    "| LightGBM\\_BAG\\_L1        | whole  | 4.92%  | 2.87%  | 12.80%                | \\-27.27%      |\n",
    "|                          | RANSAC | 3.95%  | 2.22%  | 7.67%                 | 0.00%         |\n",
    "|                          | clean  | 8.53%  | 20.68% | 15.10%                | 9.33%         |\n",
    "| NeuralNetFastAI\\_BAG\\_L1 | whole  | 31.09% | 38.91% | 71.43%                | 211.77%       |\n",
    "|                          | RANSAC | 22.67% | 23.36% | 55.12%                | 54.55%        |\n",
    "|                          | clean  | 4.55%  | 11.20% | 18.58%                | 0.00%         |\n",
    "| RandomForestMSE\\_BAG\\_L1 | whole  | 27.10% | 21.93% | 55.85%                | \\-11.76%      |\n",
    "|                          | RANSAC | 28.15% | 22.00% | 61.31%                | \\-23.53%      |\n",
    "|                          | clean  | 7.53%  | 24.00% | 15.61%                | 2.13%         |\n",
    "| WeightedEnsemble\\_L2\\_CV | whole  | 22.60% | 24.07% | 47.14%                | 117.65%       |\n",
    "|                          | RANSAC | 24.90% | 25.55% | 56.32%                | 28.00%        |"
   ]
  },
  {
   "cell_type": "markdown",
   "id": "3cf3c557",
   "metadata": {},
   "source": [
    "## label\\_aggregation\\_random\n",
    "|                          |        | auroc   | auprc   | lift\\_at\\_num\\_errors | lift\\_at\\_100 |\n",
    "| ------------------------ | ------ | ------- | ------- | --------------------- | ------------- |\n",
    "|                          | clean  | 6.28%   | 16.54%  | 15.70%                | 0.00%         |\n",
    "| LightGBM\\_BAG\\_L1        | whole  | 0.07%   | \\-1.05% | \\-1.27%               | \\-4.30%       |\n",
    "|                          | RANSAC | \\-0.83% | \\-1.29% | \\-0.18%               | \\-2.25%       |\n",
    "|                          | clean  | 5.40%   | 12.81%  | 12.50%                | 0.00%         |\n",
    "| NeuralNetFastAI\\_BAG\\_L1 | whole  | 0.21%   | 0.55%   | \\-0.77%               | \\-2.27%       |\n",
    "|                          | RANSAC | \\-0.33% | \\-0.64% | 0.37%                 | \\-1.19%       |\n",
    "|                          | clean  | 1.14%   | 2.60%   | 6.27%                 | 0.00%         |\n",
    "| RandomForestMSE\\_BAG\\_L1 | whole  | \\-2.92% | \\-9.94% | \\-0.57%               | \\-23.38%      |\n",
    "|                          | RANSAC | \\-0.84% | \\-2.49% | 0.19%                 | \\-8.99%       |\n",
    "|                          | clean  | 3.87%   | 9.96%   | 12.44%                | 0.00%         |\n",
    "| WeightedEnsemble\\_L2\\_CV | whole  | 0.07%   | \\-0.07% | 0.55%                 | 2.17%         |\n",
    "|                          | RANSAC | \\-0.54% | \\-1.08% | \\-0.55%               | \\-3.37%       |"
   ]
  },
  {
   "cell_type": "markdown",
   "id": "401693df",
   "metadata": {},
   "source": [
    "## metaphor\\_novelity\\_random\n",
    "| metaphor\\_novelity\\_random |        | auroc   | auprc    | lift\\_at\\_num\\_errors | lift\\_at\\_100 |\n",
    "| -------------------------- | ------ | ------- | -------- | --------------------- | ------------- |\n",
    "|                            | clean  | 4.29%   | 18.27%   | 25.35%                | 0.00%         |\n",
    "| LightGBM\\_BAG\\_L1          | whole  | \\-0.69% | \\-3.66%  | 0.00%                 | \\-7.59%       |\n",
    "|                            | RANSAC | \\-0.58% | \\-1.32%  | \\-0.33%               | \\-8.22%       |\n",
    "|                            | clean  | 2.43%   | 9.01%    | 2.65%                 | 6.38%         |\n",
    "| NeuralNetFastAI\\_BAG\\_L1   | whole  | 0.41%   | 1.91%    | 2.46%                 | \\-1.41%       |\n",
    "|                            | RANSAC | \\-0.51% | \\-3.48%  | \\-0.66%               | \\-5.63%       |\n",
    "|                            | clean  | 1.63%   | 6.81%    | 11.46%                | 0.00%         |\n",
    "| RandomForestMSE\\_BAG\\_L1   | whole  | \\-7.32% | \\-22.71% | \\-16.08%              | \\-34.43%      |\n",
    "|                            | RANSAC | \\-0.36% | \\-2.99%  | 0.00%                 | \\-9.46%       |\n",
    "|                            | clean  | 3.94%   | 17.14%   | 21.13%                | 0.00%         |\n",
    "| WeightedEnsemble\\_L2\\_CV   | whole  | \\-1.14% | \\-5.88%  | 2.70%                 | \\-5.06%       |\n",
    "|                            | RANSAC | \\-0.49% | \\-3.47%  | 0.99%                 | \\-9.59%       |\n"
   ]
  },
  {
   "cell_type": "markdown",
   "id": "8a39f4f8",
   "metadata": {},
   "source": [
    "## metaphor\\_novelity\\_random\n",
    "|                          |        | auroc    | auprc    | lift\\_at\\_num\\_errors | lift\\_at\\_100 |\n",
    "| ------------------------ | ------ | -------- | -------- | --------------------- | ------------- |\n",
    "|                          | clean  | 0.00%    | 3.95%    | 0.00%                 | 4.26%         |\n",
    "| LightGBM\\_BAG\\_L1        | whole  | \\-0.15%  | 2.45%    | \\-0.52%               | 9.09%         |\n",
    "|                          | RANSAC | \\-0.18%  | 0.88%    | \\-1.32%               | 2.30%         |\n",
    "|                          | clean  | 0.00%    | \\-0.07%  | \\-0.67%               | 0.00%         |\n",
    "| NeuralNetFastAI\\_BAG\\_L1 | whole  | \\-0.02%  | \\-0.25%  | \\-2.02%               | 0.00%         |\n",
    "|                          | RANSAC | \\-0.02%  | \\-0.46%  | \\-1.12%               | 0.00%         |\n",
    "|                          | clean  | 0.00%    | 0.02%    | 0.43%                 | 0.00%         |\n",
    "| RandomForestMSE\\_BAG\\_L1 | whole  | \\-13.83% | \\-77.22% | \\-75.72%              | \\-79.78%      |\n",
    "|                          | RANSAC | \\-12.04% | \\-56.50% | \\-61.92%              | \\-26.58%      |\n",
    "|                          | clean  | 0.00%    | 0.12%    | 0.45%                 | 0.00%         |\n",
    "| WeightedEnsemble\\_L2\\_CV | whole  | \\-0.02%  | \\-0.23%  | \\-2.24%               | 1.01%         |\n",
    "|                          | RANSAC | \\-0.01%  | \\-0.05%  | \\-0.90%               | 0.00%         |"
   ]
  },
  {
   "cell_type": "code",
   "execution_count": null,
   "id": "4ed8f6a0",
   "metadata": {},
   "outputs": [],
   "source": []
  }
 ],
 "metadata": {
  "kernelspec": {
   "display_name": "Python 3 (ipykernel)",
   "language": "python",
   "name": "python3"
  },
  "language_info": {
   "codemirror_mode": {
    "name": "ipython",
    "version": 3
   },
   "file_extension": ".py",
   "mimetype": "text/x-python",
   "name": "python",
   "nbconvert_exporter": "python",
   "pygments_lexer": "ipython3",
   "version": "3.9.12"
  }
 },
 "nbformat": 4,
 "nbformat_minor": 5
}
