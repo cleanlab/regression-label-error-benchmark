{
 "cells": [
  {
   "cell_type": "markdown",
   "id": "d41983e3",
   "metadata": {},
   "source": [
    "# RANSAC results"
   ]
  },
  {
   "cell_type": "markdown",
   "id": "cc8b60f4",
   "metadata": {},
   "source": [
    "## Simulation (5D covariates with 50 Mento-Carlo run)\n",
    "| ransac setting                    | reisdual | geometric mean | arithmetic mean |\n",
    "| --------------------------------- | -------- | -------------- | --------------- |\n",
    "|  10 rounds dropping 1% each round | 4.26%    | 3.58%          | 4.02%           |\n",
    "| 5 rounds dropping 2% each round   | 6.24%    | 5.71%          | 5.96%           |"
   ]
  },
  {
   "cell_type": "markdown",
   "id": "c6af9b99",
   "metadata": {},
   "source": [
    "## Real data \n",
    "# ransac setting: 10 rounds dropping 1% each round\n",
    "### high R square sets\n",
    "|                                                      | airquality\\_co\\_full | airquality\\_no2\\_full | metaphor\\_novelty\\_concat\\_average | stanford\\_politeness\\_stack\\_HFSE\\_random |\n",
    "| ---------------------------------------------------- | -------------------- | --------------------- | ---------------------------------- | ----------------------------------------- |\n",
    "| Original Outlier proportion                          | 5.13%                | 29.35%                | 6.55%                              | 11.86%                                    | 22.96% | 4.66% |\n",
    "| Outlier proportion after Ransac with reisudal score  | 4.67%                | 30.27%                | 6.14%                              | 5.78%                                     | 17.85% | 0.16% |\n",
    "| Outlier proportion after Ransac with geometric mean | 4.77%                | 30.52%                | 6.21%                              | 5.44%                                     | 17.44% | 0.69% |\n",
    "\n",
    "### low R square sets\n",
    "|                             | airquality\\_co\\_reduced | airquality\\_no2\\_reduced | stanford\\_politeness\\_stack\\_furthest | stanford\\_politeness\\_wiki\\_furthest |\n",
    "| --------------------------- | ----------------------- | ------------------------ | ------------------------------------- | ------------------------------------ |\n",
    "| Original Outlier proportion | 5.13%                   | 29.35%                   | 11.19%                                | 19.91%                               |\n",
    "| Ransac with reisudal score  | 4.25%                   | 26.50%                   | 6.72%                                 | 16.60%                               |\n",
    "| Ransac with geometric mean | 4.41%                   | 27.59%                   | 7.92%                                 | 16.43%                               |"
   ]
  },
  {
   "cell_type": "code",
   "execution_count": null,
   "id": "b006d247",
   "metadata": {},
   "outputs": [],
   "source": []
  }
 ],
 "metadata": {
  "kernelspec": {
   "display_name": "Python 3 (ipykernel)",
   "language": "python",
   "name": "python3"
  },
  "language_info": {
   "codemirror_mode": {
    "name": "ipython",
    "version": 3
   },
   "file_extension": ".py",
   "mimetype": "text/x-python",
   "name": "python",
   "nbconvert_exporter": "python",
   "pygments_lexer": "ipython3",
   "version": "3.9.12"
  }
 },
 "nbformat": 4,
 "nbformat_minor": 5
}
