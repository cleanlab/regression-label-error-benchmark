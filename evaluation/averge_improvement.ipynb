{
 "cells": [
  {
   "cell_type": "markdown",
   "id": "25977be2",
   "metadata": {},
   "source": [
    "average improvement of arithmetic mean compared with residual （model trained on all clean labels）\n",
    "---\n",
    "Convert Spreadsheet to Markdown\n",
    "Outer pipes Cell padding\n",
    "\n",
    "|                              | NNF\\_L1    | WE\\_L2   | NNF      | LGBM     | RF\\_L1    | LBGM\\_L1  | RF       | WE       |\n",
    "| ---------------------------- | ---------- | -------- | -------- | -------- | --------- | --------- | -------- | -------- |\n",
    "| auroc                        | 0.00445288 | 0.00844  | 0.001874 | 0.000552 | \\-0.00592 | \\-0.00728 | 0.011717 | 0.004453 |\n",
    "| auprc                        | 0.347474   | 0.393258 | 0.167675 | 0.281481 | 0.273876  | 0.259627  | 0.488255 | 0.347474 |\n",
    "| lift@num | 0.420011   | 0.328494 | 0.130368 | 0.251124 | 0.099961  | 0.318052  | 0.190161 | 0.420011 |\n",
    "| lift@100 | 0.558769   | 0.25375  | 0.201031 | 0.558985 | 0.421173  | 0.694271  | 0.326762 | 0.558769 |"
   ]
  },
  {
   "cell_type": "markdown",
   "id": "8be72140",
   "metadata": {},
   "source": [
    "average improvement of arithmetic mean compared with residual （model trained on whole labels）\n",
    "---\n",
    "|                              | NNF\\_L1    | WE\\_L2    | NNF       | LGBM      | RF\\_L1    | LBGM\\_L1  | RF        | WE        |\n",
    "| ---------------------------- | ---------- | --------- | --------- | --------- | --------- | --------- | --------- | --------- |\n",
    "| auroc                        | \\-0.184081 | \\-0.15254 | \\-0.15948 | \\-0.11165 | \\-0.13895 | \\-0.17294 | \\-0.15948 | \\-0.14371 |\n",
    "| auprc                        | \\-0.489995 | \\-0.44696 | \\-0.46162 | \\-0.37848 | \\-0.4097  | \\-0.40708 | \\-0.46162 | \\-0.42351 |\n",
    "| lift@num | \\-0.552865 | \\-0.48804 | \\-0.52039 | \\-0.39506 | \\-0.48551 | \\-0.43207 | \\-0.52039 | \\-0.48151 |\n",
    "| lift@100 | \\-0.581226 | \\-0.55814 | \\-0.61805 | \\-0.37755 | \\-0.51096 | \\-0.30581 | \\-0.61805 | \\-0.50789 |"
   ]
  },
  {
   "cell_type": "markdown",
   "id": "e00d6c91",
   "metadata": {},
   "source": [
    "average improvement of arithmetic mean compared with residual （1 time RANSAC dropping 30% data）\n",
    "---\n",
    "|                              | NNF\\_L1     | WE\\_L2    | NNF       | LGBM      | RF\\_L1    | LBGM\\_L1  | RF        | WE        |\n",
    "| ---------------------------- | ----------- | --------- | --------- | --------- | --------- | --------- | --------- | --------- |\n",
    "| auroc                        | \\-0.0267097 | \\-0.04657 | \\-0.02358 | \\-0.0211  | \\-0.05129 | \\-0.03242 | \\-0.04835 | \\-0.02671 |\n",
    "| auprc                        | \\-0.110075  | \\-0.20632 | \\-0.061   | \\-0.10361 | \\-0.09318 | \\-0.12765 | \\-0.20475 | \\-0.11008 |\n",
    "| lift@num| \\-0.159633  | \\-0.2235  | \\-0.09787 | \\-0.13497 | \\-0.1261  | \\-0.16876 | \\-0.1211  | \\-0.15963 |\n",
    "| lift@100| 0.0579683   | \\-0.16249 | \\-0.06018 | \\-0.03467 | \\-0.04885 | \\-0.01506 | \\-0.08413 | 0.057968  |"
   ]
  },
  {
   "cell_type": "code",
   "execution_count": null,
   "id": "c5fad583",
   "metadata": {},
   "outputs": [],
   "source": []
  }
 ],
 "metadata": {
  "kernelspec": {
   "display_name": "Python 3 (ipykernel)",
   "language": "python",
   "name": "python3"
  },
  "language_info": {
   "codemirror_mode": {
    "name": "ipython",
    "version": 3
   },
   "file_extension": ".py",
   "mimetype": "text/x-python",
   "name": "python",
   "nbconvert_exporter": "python",
   "pygments_lexer": "ipython3",
   "version": "3.9.12"
  }
 },
 "nbformat": 4,
 "nbformat_minor": 5
}
