{
 "cells": [
  {
   "cell_type": "markdown",
   "id": "25977be2",
   "metadata": {},
   "source": [
    "average improvement of arithmetic mean compared with residual （model trained on all clean labels）\n",
    "---\n",
    "Convert Spreadsheet to Markdown\n",
    "Outer pipes Cell padding\n",
    "\n",
    "|                              | NNF\\_L1 | WE\\_L2 | NNF    | LGBM   | RF\\_L1  | LBGM\\_L1 | RF     | WE     |\n",
    "| ---------------------------- | ------- | ------ | ------ | ------ | ------- | -------- | ------ | ------ |\n",
    "| auroc                        | 0.45%   | 0.84%  | 0.19%  | 0.06%  | \\-0.59% | \\-0.73%  | 1.17%  | 0.45%  |\n",
    "| auprc                        | 34.75%  | 39.33% | 16.77% | 28.15% | 27.39%  | 25.96%   | 48.83% | 34.75% |\n",
    "| lift@num | 42.00%  | 32.85% | 13.04% | 25.11% | 10.00%  | 31.81%   | 19.02% | 42.00% |\n",
    "| lift@100 | 55.88%  | 25.38% | 20.10% | 55.90% | 42.12%  | 69.43%   | 32.68% | 55.88% |"
   ]
  },
  {
   "cell_type": "markdown",
   "id": "8be72140",
   "metadata": {},
   "source": [
    "average improvement of arithmetic mean compared with residual （model trained on whole labels）\n",
    "---\n",
    "|                              | NNF\\_L1 | WE\\_L2   | NNF      | LGBM    | RF\\_L1   | LBGM\\_L1 | RF       | WE      |\n",
    "| ---------------------------- | ------- | -------- | -------- | ------- | -------- | -------- | -------- | ------- |\n",
    "| auroc                        | \\-0.54% | \\-9.65%  | \\-1.90%  | \\-0.41% | \\-4.51%  | \\-2.03%  | \\-10.00% | \\-0.54% |\n",
    "| auprc                        | \\-3.03% | \\-38.70% | \\-1.33%  | 0.46%   | \\-8.06%  | \\-6.39%  | \\-29.75% | \\-3.03% |\n",
    "| lift@num | 2.72%   | \\-28.62% | \\-10.27% | 17.48%  | \\-12.89% | 15.20%   | \\-38.29% | 2.72%   |\n",
    "| lift@100 | 11.40%  | \\-34.71% | 4.35%    | 43.67%  | \\-11.42% |          | \\-11.54% | 11.40%  |"
   ]
  },
  {
   "cell_type": "markdown",
   "id": "e00d6c91",
   "metadata": {},
   "source": [
    "average improvement of arithmetic mean compared with residual （1 time RANSAC dropping 20% data）\n",
    "---\n",
    "|                              | NNF\\_L1  | WE\\_L2   | NNF      | LGBM     | RF\\_L1   | LBGM\\_L1 | RF       | WE       |\n",
    "| ---------------------------- | -------- | -------- | -------- | -------- | -------- | -------- | -------- | -------- |\n",
    "| auroc                        | \\-2.87%  | \\-5.04%  | \\-2.13%  | \\-2.17%  | \\-4.01%  | \\-0.97%  | \\-5.00%  | \\-2.87%  |\n",
    "| auprc                        | \\-10.65% | \\-20.17% | \\-4.37%  | \\-10.19% | \\-7.60%  | \\-8.30%  | \\-19.61% | \\-10.65% |\n",
    "| lift@num | \\-10.67% | \\-22.43% | \\-2.18%  | \\-13.27% | \\-13.01% | \\-6.98%  | \\-15.35% | \\-10.67% |\n",
    "| lift@100 | \\-10.06% | \\-18.89% | \\-10.95% | \\-9.95%  | \\-13.03% |          | \\-14.68% | \\-10.06% |"
   ]
  },
  {
   "cell_type": "markdown",
   "id": "83bc07b9",
   "metadata": {},
   "source": [
    "## proportion of outlier for whole dataset and after 1 round RANSAC\n",
    "| dataset               | whole dataset | after 1 round RANSAC |\n",
    "| -------------------------------- | ------------- | -------------------- |\n",
    "| airquality\\_co                   | 4.97%         | 4.90%                |\n",
    "| airquality\\_nmhc                 | 10.26%        | 6.77%                |\n",
    "| airquality\\_no2                  | 3.26%         | 3.62%                |\n",
    "| label\\_aggregation\\_easy\\_concat | 9.93%         | 7.67%                |\n",
    "| label\\_aggregation\\_easy\\_diff   | 7.42%         | 5.14%                |\n",
    "| metaphor\\_novelity\\_easy\\_concat | 8.32%         | 7.79%                |\n",
    "| metaphor\\_novelity\\_easy\\_diff   | 3.76%         | 2.73%                |\n",
    "| standford\\_politeness\\_stack     | 7.07%         | 0.95%                |\n",
    "| standford\\_politeness\\_wiki      | 18.08%        | 7.72%                |\n",
    "| telomere\\_cq\\_scg                | 4.71%         | 0.01%                |\n",
    "| telomere\\_cq\\_telo               | 4.66%         | 0.03%                |\n",
    "| telomere\\_ts                     | 4.59%         | 3.08%                |"
   ]
  },
  {
   "cell_type": "markdown",
   "id": "60d9593d",
   "metadata": {},
   "source": [
    "## comparision between models trained on different dataset (for WeightedEnsemble_L2 model)\n",
    "| dataset                          | trained on clean | trained on whole | trained on RANSAC |\n",
    "| -------------------------------- | ---------------- | ---------------- | ----------------- |\n",
    "| airquality\\_co                   | 89.25%           | \\-12.44%         | \\-17.50%          |\n",
    "| airquality\\_nmhc                 | 15.31%           | \\-10.52%         | \\-26.35%          |\n",
    "| airquality\\_no2                  | 123.43%          | 36.61%           | 2.40%             |\n",
    "| label\\_aggregation\\_easy\\_concat | 35.34%           | 1.65%            | \\-4.02%           |\n",
    "| label\\_aggregation\\_easy\\_diff   | 30.13%           | \\-7.22%          | \\-6.39%           |\n",
    "| metaphor\\_novelity\\_easy\\_concat | 59.76%           | \\-5.60%          | \\-5.79%           |\n",
    "| metaphor\\_novelity\\_easy\\_diff   | 46.02%           | \\-15.70%         | \\-3.55%           |\n",
    "| standford\\_politeness\\_stack     | 17.39%           | \\-10.63%         | \\-3.56%           |\n",
    "| standford\\_politeness\\_wiki      | 1.25%            | \\-2.03%          | \\-4.87%           |\n",
    "| telomere\\_cq\\_scg                | 0.12%            | 0.08%            | 0.82%             |\n",
    "| telomere\\_cq\\_telo               | 0.18%            | \\-0.25%          | 1.25%             |\n",
    "| telomere\\_ts                     | \\-1.19%          | \\-10.31%         | \\-60.23%          |"
   ]
  },
  {
   "cell_type": "markdown",
   "id": "251dd499",
   "metadata": {},
   "source": [
    "# AUPRC of the simulated data, r is the proportion of outliers in the training sets\n",
    "|       | signal strength | \\-3  | \\-2  | \\-1  | 0    | 1    | 2    | 3    |\n",
    "| ----- | --------------- | ---- | ---- | ---- | ---- | ---- | ---- | ---- |\n",
    "| r=0   | res             | 0.83 | 0.49 | 0.20 | 0.11 | 0.22 | 0.53 | 0.84 |\n",
    "|       | alge mean       | 0.87 | 0.78 | 0.37 | 0.12 | 0.43 | 0.77 | 0.87 |\n",
    "|       | geom mean       | 0.88 | 0.76 | 0.37 | 0.11 | 0.41 | 0.76 | 0.88 |\n",
    "| r=0.1 | res             | 0.72 | 0.40 | 0.19 | 0.11 | 0.20 | 0.42 | 0.72 |\n",
    "|       | alge mean       | 0.83 | 0.69 | 0.29 | 0.11 | 0.37 | 0.74 | 0.82 |\n",
    "|       | geom mean       | 0.85 | 0.69 | 0.29 | 0.11 | 0.35 | 0.71 | 0.84 |\n",
    "| r=0.2 | res             | 0.53 | 0.30 | 0.16 | 0.11 | 0.18 | 0.33 | 0.59 |\n",
    "|       | alge mean       | 0.72 | 0.52 | 0.20 | 0.11 | 0.32 | 0.56 | 0.76 |\n",
    "|       | geom mean       | 0.69 | 0.51 | 0.22 | 0.11 | 0.31 | 0.55 | 0.76 |\n",
    "| r=0.3 | res             | 0.36 | 0.20 | 0.14 | 0.11 | 0.16 | 0.25 | 0.34 |\n",
    "|       | alge mean       | 0.52 | 0.31 | 0.15 | 0.11 | 0.24 | 0.43 | 0.51 |\n",
    "|       | geom mean       | 0.50 | 0.29 | 0.16 | 0.11 | 0.23 | 0.40 | 0.52 |\n",
    "| r=0.4 | res             | 0.22 | 0.15 | 0.12 | 0.11 | 0.14 | 0.17 | 0.22 |\n",
    "|       | alge mean       | 0.26 | 0.16 | 0.13 | 0.11 | 0.16 | 0.24 | 0.33 |\n",
    "|       | geom mean       | 0.23 | 0.16 | 0.12 | 0.11 | 0.16 | 0.23 | 0.33 |"
   ]
  },
  {
   "cell_type": "code",
   "execution_count": null,
   "id": "ce123e74",
   "metadata": {},
   "outputs": [],
   "source": []
  }
 ],
 "metadata": {
  "kernelspec": {
   "display_name": "Python 3 (ipykernel)",
   "language": "python",
   "name": "python3"
  },
  "language_info": {
   "codemirror_mode": {
    "name": "ipython",
    "version": 3
   },
   "file_extension": ".py",
   "mimetype": "text/x-python",
   "name": "python",
   "nbconvert_exporter": "python",
   "pygments_lexer": "ipython3",
   "version": "3.9.12"
  }
 },
 "nbformat": 4,
 "nbformat_minor": 5
}
