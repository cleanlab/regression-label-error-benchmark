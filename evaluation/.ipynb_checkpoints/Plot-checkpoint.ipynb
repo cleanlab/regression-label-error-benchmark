{
 "cells": [
  {
   "cell_type": "code",
   "execution_count": null,
   "id": "40187d0c",
   "metadata": {},
   "outputs": [],
   "source": [
    "import os\n",
    "import glob\n",
    "import numpy as np\n",
    "import pandas as pd\n",
    "import matplotlib.pyplot as plt\n",
    "from scipy.special import softmax\n",
    "from cleanlab.rank import get_label_quality_scores\n",
    "from sklearn.neighbors import KernelDensity\n",
    "from utils import (\n",
    "    compute_metrics,\n",
    "    master_dataframe,\n",
    "    create_metricwise_dict,\n",
    "    draw_dot_plot,\n",
    ")"
   ]
  }
 ],
 "metadata": {
  "kernelspec": {
   "display_name": "Python 3 (ipykernel)",
   "language": "python",
   "name": "python3"
  },
  "language_info": {
   "codemirror_mode": {
    "name": "ipython",
    "version": 3
   },
   "file_extension": ".py",
   "mimetype": "text/x-python",
   "name": "python",
   "nbconvert_exporter": "python",
   "pygments_lexer": "ipython3",
   "version": "3.9.12"
  }
 },
 "nbformat": 4,
 "nbformat_minor": 5
}
