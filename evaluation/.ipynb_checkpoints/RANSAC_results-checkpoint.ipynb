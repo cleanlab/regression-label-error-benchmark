{
 "cells": [
  {
   "cell_type": "markdown",
   "id": "d41983e3",
   "metadata": {},
   "source": [
    "# RANSAC results"
   ]
  },
  {
   "cell_type": "markdown",
   "id": "cc8b60f4",
   "metadata": {},
   "source": [
    "## Simulation (5D covariates with 50 Mento-Carlo run)\n",
    "| ransac setting                    | reisdual | geometric mean | arithmetic mean |\n",
    "| --------------------------------- | -------- | -------------- | --------------- |\n",
    "|  10 rounds dropping 1% each round | 4.26%    | 3.58%          | 4.02%           |\n",
    "| 5 rounds dropping 2% each round   | 6.24%    | 5.71%          | 5.96%           |"
   ]
  },
  {
   "cell_type": "markdown",
   "id": "c6af9b99",
   "metadata": {},
   "source": [
    "## Real data \n",
    "# ransac setting: 10 rounds dropping 1% each round\n",
    "### high R square sets\n",
    "| Outlier proportion          | airquality co full | airquality no2 full | metaphor novelty concat average | stanford politeness stack HFSE random | stanford politeness wiki random | telomere cq telo |\n",
    "| --------------------------- | ------------------ | ------------------- | ------------------------------- | ------------------------------------- | ------------------------------- | ---------------- |\n",
    "| Original Outlier proportion | 5.13%              | 29.35%              | 6.55%                           | 11.86%                                | 22.96%                          | 4.66%            |\n",
    "| Ransac with reisudal score  | 4.67%              | 30.27%              | 6.14%                           | 5.78%                                 | 17.85%                          | 0.16%            |\n",
    "| Ransac with geometric mean  | 4.77%              | 30.52%              | 6.21%                           | 5.44%                                 | 17.44%                          | 0.69%            |\n",
    "| Ransac with arithmetic mean | 4.82%              | 30.39%              | 6.38%                           | 5.71%                                 | 17.69%                          | 0.21%            |\n",
    "\n",
    "### low R square sets\n",
    "| Outlier proportion          | airquality co reduced | airquality no2 reduced | stanford politeness stack furthest | stanford politeness wiki furthest |\n",
    "| --------------------------- | --------------------- | ---------------------- | ---------------------------------- | --------------------------------- |\n",
    "| Original Outlier proportion | 5.13%                 | 29.35%                 | 11.19%                             | 19.91%                            |\n",
    "| Ransac with reisudal score  | 4.25%                 | 26.50%                 | 6.72%                              | 16.60%                            |\n",
    "| Ransac with geometric mean  | 4.41%                 | 27.59%                 | 7.92%                              | 16.43%                            |\n",
    "| Ransac with arithmetic mean | 4.46%                 | 28.40%                 | 7.66%                               | 16.26%                            |\n",
    "\n",
    "# ransac setting: 20 rounds dropping 0.5% each round\n",
    "### high R square sets\n",
    "| Outlier proportion          | airquality co full | airquality no2 full | metaphor novelty concat average | stanford politeness stack HFSE random | stanford politeness wiki random | telomere cq telo |\n",
    "| --------------------------- | ------------------ | ------------------- | ------------------------------- | ------------------------------------- | ------------------------------- | ---------------- |\n",
    "| Original Outlier proportion | 5.13%              | 29.35%              | 6.55%                           | 11.86%                                | 22.96%                          | 4.66%            |\n",
    "| Ransac with reisudal score  | 4.68%              | 30.25%              | 6.36%                           | 5.34%                                 | 17.61%                          | 0.19%            |\n",
    "| Ransac with geometric mean  | 4.72%              | 30.61%              | 6.35%                           | 5.47%                                 | 17.02%                          | 0.57%            |\n",
    "| Ransac with arithmetic mean | 4.68%              | 30.48%              | 6.32%                           | 5.40%                                 | 17.19%                          | 0.12%            |\n",
    "\n",
    "### low R square sets\n",
    "| Outlier proportion          | airquality co reduced | airquality no2 reduced | stanford politeness stack furthest | stanford politeness wiki furthest |\n",
    "| --------------------------- | --------------------- | ---------------------- | ---------------------------------- | --------------------------------- |\n",
    "| Original Outlier proportion | 5.13%                 | 29.35%                 | 11.19%                             | 19.91%                            |\n",
    "| Ransac with reisudal score  | 4.33%                 | 26.49%                 | 6.49%                              | 16.43%                            |\n",
    "| Ransac with geometric mean  | 4.53%                 | 27.90%                 | 8.45%                              | 16.26%                            |\n",
    "| Ransac with arithmetic mean | 4.35%                 | 28.35%                 | 7.70%                              | 16.43%                            |\n",
    "\n",
    "# ransac setting: 20 rounds dropping 1% each round\n",
    "### high R square sets\n",
    "| Outlier proportion          | airquality co full | airquality no2 full | metaphor novelty concat average | stanford politeness stack HFSE random | stanford politeness wiki random | telomere cq telo |\n",
    "| --------------------------- | ------------------ | ------------------- | ------------------------------- | ------------------------------------- | ------------------------------- | ---------------- |\n",
    "| Original Outlier proportion | 5.13%              | 29.35%              | 6.55%                           | 11.86%                                | 22.96%                          | 4.66%            |\n",
    "| Ransac with reisudal score  | 4.37%              | 31.36%              | 5.67%                           | 2.38%                                 | 13.67%                          | 0.05%            |\n",
    "| Ransac with geometric mean  | 4.66%              | 31.59%              | 6.03%                           | 3.35%                                 | 13.86%                          | 0.24%            |\n",
    "| Ransac with arithmetic mean | 4.54%              | 31.70%              | 5.76%                           | 3.28%                                 | 13.95%                          | 0.06%            |\n",
    "\n",
    "### low R square sets\n",
    "| Outlier proportion          | airquality co reduced | airquality no2 reduced | stanford politeness stack furthest | stanford politeness wiki furthest |\n",
    "| --------------------------- | --------------------- | ---------------------- | ---------------------------------- | --------------------------------- |\n",
    "| Original Outlier proportion | 5.13%                 | 29.35%                 | 11.19%                             | 19.91%                            |\n",
    "| Ransac with reisudal score  | 4.03%                 | 25.11%                 | 4.47%                              | 14.60%                            |\n",
    "| Ransac with geometric mean  | 4.41%                 | 25.92%                 | 4.91%                              | 13.67%                            |\n",
    "| Ransac with arithmetic mean | 4.24%                 | 26.61%                 | 6.03%                              | 13.30%                            |"
   ]
  },
  {
   "cell_type": "code",
   "execution_count": null,
   "id": "b006d247",
   "metadata": {},
   "outputs": [],
   "source": []
  }
 ],
 "metadata": {
  "kernelspec": {
   "display_name": "Python 3 (ipykernel)",
   "language": "python",
   "name": "python3"
  },
  "language_info": {
   "codemirror_mode": {
    "name": "ipython",
    "version": 3
   },
   "file_extension": ".py",
   "mimetype": "text/x-python",
   "name": "python",
   "nbconvert_exporter": "python",
   "pygments_lexer": "ipython3",
   "version": "3.9.12"
  }
 },
 "nbformat": 4,
 "nbformat_minor": 5
}
