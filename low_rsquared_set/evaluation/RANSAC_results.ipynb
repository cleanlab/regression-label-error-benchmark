{
 "cells": [
  {
   "cell_type": "markdown",
   "id": "18c14963",
   "metadata": {},
   "source": [
    "# RANSAC results"
   ]
  },
  {
   "cell_type": "markdown",
   "id": "4b26e7bc",
   "metadata": {},
   "source": [
    "## Original outlier proportion \n",
    "| airquality\\_co | airquality\\_no2 | label\\_aggregation\\_easy\\_concat | metaphor\\_novelity\\_random | telomere\\_cq\\_telo |\n",
    "| -------------- | --------------- | -------------------------------- | -------------------------- | ------------------ |\n",
    "| 5.13%          | 29.35%          | 9.93%                            | 21.06%                     | 4.66%              |"
   ]
  },
  {
   "cell_type": "markdown",
   "id": "0e3b7bb5",
   "metadata": {},
   "source": [
    "# One step RANSAC drop 10%\n",
    "|                                  |            | RandomForestMSE\\_BAG\\_L1 | LightGBM\\_BAG\\_L1 | NeuralNetFastAI\\_BAG\\_L1 | WeightedEnsemble\\_L2 |\n",
    "| -------------------------------- | ---------- | ------------------------ | ----------------- | ------------------------ | -------------------- |\n",
    "| airquality\\_co                   | residual   | 4.40%                    | 4.24%             | 4.22%                    | 4.33%                |\n",
    "|                                  | arithmetic | 4.51%                    | 4.46%             | 4.39%                    | 4.40%                |\n",
    "| airquality\\_no2                  | residual   | 25.90%                   | 26.29%            | 26.68%                   | 26.48%               |\n",
    "|                                  | arithmetic | 27.33%                   | 27.22%            | 28.15%                   | 27.66%               |\n",
    "| label\\_aggregation\\_easy\\_concat | residual   | 8.86%                    | 8.86%             | 8.96%                    | 8.86%                |\n",
    "|                                  | arithmetic | 9.11%                    | 8.68%             | 9.04%                    | 9.00%                |\n",
    "| metaphor\\_novelity\\_random       | residual   | 17.33%                   | 17.19%            | 17.22%                   | 17.33%               |\n",
    "|                                  | arithmetic | 17.26%                   | 17.15%            | 17.12%                   | 17.12%               |\n",
    "| telomere\\_cq\\_telo               | residual   | 0.87%                    | 0.14%             | 0.00%                    | 0.00%                |\n",
    "|                                  | arithmetic | 1.46%                    | 0.22%             | 0.01%                    | 0.01%                |"
   ]
  },
  {
   "cell_type": "markdown",
   "id": "665ba6cc",
   "metadata": {},
   "source": [
    "# 10 rounds RANSAC, each round drop 1%\n",
    "|            | airquality\\_co | airquality\\_no2 | label\\_aggregation\\_easy\\_concat |\n",
    "| ---------- | -------------- | --------------- | -------------------------------- |\n",
    "| residual   | 4.30%          | 26.81%          | 8.88%                            |\n",
    "| arithmetic | 4.50%          | 27.97%          | 8.88%                            |"
   ]
  },
  {
   "cell_type": "code",
   "execution_count": null,
   "id": "0e5663d7",
   "metadata": {},
   "outputs": [],
   "source": []
  }
 ],
 "metadata": {
  "kernelspec": {
   "display_name": "Python 3 (ipykernel)",
   "language": "python",
   "name": "python3"
  },
  "language_info": {
   "codemirror_mode": {
    "name": "ipython",
    "version": 3
   },
   "file_extension": ".py",
   "mimetype": "text/x-python",
   "name": "python",
   "nbconvert_exporter": "python",
   "pygments_lexer": "ipython3",
   "version": "3.9.12"
  }
 },
 "nbformat": 4,
 "nbformat_minor": 5
}
