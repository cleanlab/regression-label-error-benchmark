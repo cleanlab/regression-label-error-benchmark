{
 "cells": [
  {
   "cell_type": "code",
   "execution_count": 1,
   "metadata": {},
   "outputs": [],
   "source": [
    "import os\n",
    "import numpy as np \n",
    "import pandas as pd "
   ]
  },
  {
   "cell_type": "code",
   "execution_count": 2,
   "metadata": {},
   "outputs": [
    {
     "name": "stdout",
     "output_type": "stream",
     "text": [
      "File './../../dataset/airquality_co.csv' already there; not retrieving.\n",
      "\n"
     ]
    }
   ],
   "source": [
    "!wget -P ./../../dataset/ -nc https://cleanlab-public.s3.amazonaws.com/RegressionBenchmark/airquality_co.csv"
   ]
  },
  {
   "cell_type": "code",
   "execution_count": 3,
   "metadata": {},
   "outputs": [
    {
     "name": "stdout",
     "output_type": "stream",
     "text": [
      "shape of data:  (7344, 12)\n"
     ]
    },
    {
     "data": {
      "text/html": [
       "<div>\n",
       "<style scoped>\n",
       "    .dataframe tbody tr th:only-of-type {\n",
       "        vertical-align: middle;\n",
       "    }\n",
       "\n",
       "    .dataframe tbody tr th {\n",
       "        vertical-align: top;\n",
       "    }\n",
       "\n",
       "    .dataframe thead th {\n",
       "        text-align: right;\n",
       "    }\n",
       "</style>\n",
       "<table border=\"1\" class=\"dataframe\">\n",
       "  <thead>\n",
       "    <tr style=\"text-align: right;\">\n",
       "      <th></th>\n",
       "      <th>time_slot</th>\n",
       "      <th>day_of_week</th>\n",
       "      <th>T</th>\n",
       "      <th>RH</th>\n",
       "      <th>AH</th>\n",
       "      <th>PT08.S2(NMHC)</th>\n",
       "      <th>PT08.S3(NOx)</th>\n",
       "      <th>PT08.S4(NO2)</th>\n",
       "      <th>PT08.S5(O3)</th>\n",
       "      <th>true_label</th>\n",
       "      <th>given_label</th>\n",
       "      <th>true_error</th>\n",
       "    </tr>\n",
       "  </thead>\n",
       "  <tbody>\n",
       "    <tr>\n",
       "      <th>0</th>\n",
       "      <td>evening</td>\n",
       "      <td>wednesday</td>\n",
       "      <td>13.6</td>\n",
       "      <td>48.9</td>\n",
       "      <td>0.7578</td>\n",
       "      <td>1046.0</td>\n",
       "      <td>1056.0</td>\n",
       "      <td>1692.0</td>\n",
       "      <td>1268.0</td>\n",
       "      <td>1.2078</td>\n",
       "      <td>1.2366</td>\n",
       "      <td>0</td>\n",
       "    </tr>\n",
       "    <tr>\n",
       "      <th>1</th>\n",
       "      <td>evening</td>\n",
       "      <td>wednesday</td>\n",
       "      <td>13.3</td>\n",
       "      <td>47.7</td>\n",
       "      <td>0.7255</td>\n",
       "      <td>955.0</td>\n",
       "      <td>1174.0</td>\n",
       "      <td>1559.0</td>\n",
       "      <td>972.0</td>\n",
       "      <td>0.9290</td>\n",
       "      <td>1.1747</td>\n",
       "      <td>0</td>\n",
       "    </tr>\n",
       "    <tr>\n",
       "      <th>2</th>\n",
       "      <td>evening</td>\n",
       "      <td>wednesday</td>\n",
       "      <td>11.9</td>\n",
       "      <td>54.0</td>\n",
       "      <td>0.7502</td>\n",
       "      <td>939.0</td>\n",
       "      <td>1140.0</td>\n",
       "      <td>1555.0</td>\n",
       "      <td>1074.0</td>\n",
       "      <td>1.0219</td>\n",
       "      <td>1.2747</td>\n",
       "      <td>0</td>\n",
       "    </tr>\n",
       "    <tr>\n",
       "      <th>3</th>\n",
       "      <td>evening</td>\n",
       "      <td>wednesday</td>\n",
       "      <td>11.0</td>\n",
       "      <td>60.0</td>\n",
       "      <td>0.7867</td>\n",
       "      <td>948.0</td>\n",
       "      <td>1092.0</td>\n",
       "      <td>1584.0</td>\n",
       "      <td>1203.0</td>\n",
       "      <td>1.0219</td>\n",
       "      <td>1.2511</td>\n",
       "      <td>0</td>\n",
       "    </tr>\n",
       "    <tr>\n",
       "      <th>4</th>\n",
       "      <td>night</td>\n",
       "      <td>wednesday</td>\n",
       "      <td>11.2</td>\n",
       "      <td>59.6</td>\n",
       "      <td>0.7888</td>\n",
       "      <td>836.0</td>\n",
       "      <td>1205.0</td>\n",
       "      <td>1490.0</td>\n",
       "      <td>1110.0</td>\n",
       "      <td>0.7432</td>\n",
       "      <td>1.1565</td>\n",
       "      <td>0</td>\n",
       "    </tr>\n",
       "  </tbody>\n",
       "</table>\n",
       "</div>"
      ],
      "text/plain": [
       "  time_slot day_of_week     T    RH      AH  PT08.S2(NMHC)  PT08.S3(NOx)  \\\n",
       "0   evening   wednesday  13.6  48.9  0.7578         1046.0        1056.0   \n",
       "1   evening   wednesday  13.3  47.7  0.7255          955.0        1174.0   \n",
       "2   evening   wednesday  11.9  54.0  0.7502          939.0        1140.0   \n",
       "3   evening   wednesday  11.0  60.0  0.7867          948.0        1092.0   \n",
       "4     night   wednesday  11.2  59.6  0.7888          836.0        1205.0   \n",
       "\n",
       "   PT08.S4(NO2)  PT08.S5(O3)  true_label  given_label  true_error  \n",
       "0        1692.0       1268.0      1.2078       1.2366           0  \n",
       "1        1559.0        972.0      0.9290       1.1747           0  \n",
       "2        1555.0       1074.0      1.0219       1.2747           0  \n",
       "3        1584.0       1203.0      1.0219       1.2511           0  \n",
       "4        1490.0       1110.0      0.7432       1.1565           0  "
      ]
     },
     "execution_count": 3,
     "metadata": {},
     "output_type": "execute_result"
    }
   ],
   "source": [
    "path = \"./../../dataset//airquality_co.csv\"\n",
    "dataset_name = os.path.splitext(os.path.basename(path))[0]\n",
    "data = pd.read_csv(path, index_col=0)\n",
    "print(\"shape of data: \", data.shape)\n",
    "data.head() "
   ]
  },
  {
   "cell_type": "code",
   "execution_count": 4,
   "metadata": {},
   "outputs": [
    {
     "data": {
      "text/html": [
       "<div>\n",
       "<style scoped>\n",
       "    .dataframe tbody tr th:only-of-type {\n",
       "        vertical-align: middle;\n",
       "    }\n",
       "\n",
       "    .dataframe tbody tr th {\n",
       "        vertical-align: top;\n",
       "    }\n",
       "\n",
       "    .dataframe thead th {\n",
       "        text-align: right;\n",
       "    }\n",
       "</style>\n",
       "<table border=\"1\" class=\"dataframe\">\n",
       "  <thead>\n",
       "    <tr style=\"text-align: right;\">\n",
       "      <th></th>\n",
       "      <th>time_slot</th>\n",
       "      <th>day_of_week</th>\n",
       "      <th>T</th>\n",
       "      <th>RH</th>\n",
       "      <th>AH</th>\n",
       "      <th>PT08.S2(NMHC)</th>\n",
       "      <th>PT08.S3(NOx)</th>\n",
       "      <th>PT08.S4(NO2)</th>\n",
       "      <th>PT08.S5(O3)</th>\n",
       "      <th>given_label</th>\n",
       "    </tr>\n",
       "  </thead>\n",
       "  <tbody>\n",
       "    <tr>\n",
       "      <th>0</th>\n",
       "      <td>evening</td>\n",
       "      <td>wednesday</td>\n",
       "      <td>13.6</td>\n",
       "      <td>48.9</td>\n",
       "      <td>0.7578</td>\n",
       "      <td>1046.0</td>\n",
       "      <td>1056.0</td>\n",
       "      <td>1692.0</td>\n",
       "      <td>1268.0</td>\n",
       "      <td>1.2366</td>\n",
       "    </tr>\n",
       "    <tr>\n",
       "      <th>1</th>\n",
       "      <td>evening</td>\n",
       "      <td>wednesday</td>\n",
       "      <td>13.3</td>\n",
       "      <td>47.7</td>\n",
       "      <td>0.7255</td>\n",
       "      <td>955.0</td>\n",
       "      <td>1174.0</td>\n",
       "      <td>1559.0</td>\n",
       "      <td>972.0</td>\n",
       "      <td>1.1747</td>\n",
       "    </tr>\n",
       "  </tbody>\n",
       "</table>\n",
       "</div>"
      ],
      "text/plain": [
       "  time_slot day_of_week     T    RH      AH  PT08.S2(NMHC)  PT08.S3(NOx)  \\\n",
       "0   evening   wednesday  13.6  48.9  0.7578         1046.0        1056.0   \n",
       "1   evening   wednesday  13.3  47.7  0.7255          955.0        1174.0   \n",
       "\n",
       "   PT08.S4(NO2)  PT08.S5(O3)  given_label  \n",
       "0        1692.0       1268.0       1.2366  \n",
       "1        1559.0        972.0       1.1747  "
      ]
     },
     "execution_count": 4,
     "metadata": {},
     "output_type": "execute_result"
    }
   ],
   "source": [
    "training_data = data.drop(['true_label', 'true_error'], axis=1)\n",
    "training_data.head(2)"
   ]
  },
  {
   "cell_type": "code",
   "execution_count": null,
   "metadata": {},
   "outputs": [],
   "source": [
    "y = training_data['given_label']\n",
    "X = training_data.drop(['given_label'], axis=1)\n",
    "\n",
    "###### Add your training code here ###############\n",
    "# model = \n",
    "\n",
    "\n",
    "\n",
    "# predictions = model.predict()\n",
    "\n",
    "##### saving the predictions ####################\n",
    "savepath = \"./../predictions/model_output.npy\"\n",
    "np.save(savepath, np.array(predictions))\n"
   ]
  },
  {
   "cell_type": "markdown",
   "metadata": {},
   "source": [
    "## Section section is relevant only if using AutoGluon\n",
    "\n",
    "Uncomment the code in following cells and run to generate output and save to predictions folder. "
   ]
  },
  {
   "cell_type": "markdown",
   "metadata": {},
   "source": [
    "### set up arguments "
   ]
  },
  {
   "cell_type": "code",
   "execution_count": null,
   "metadata": {},
   "outputs": [],
   "source": [
    "# from autogluon.tabular import TabularDataset, TabularPredictor\n",
    "\n",
    "# data_without_label = training_data.drop(['given_label'], axis=1)\n",
    "# savepath = os.path.join(\"trained_models\", dataset_name)\n",
    "\n",
    "# predictorArgs = {\n",
    "#                     \"path\"             : savepath, \n",
    "#                     \"label\"            : 'given_label',\n",
    "#                     \"eval_metric\"      : 'r2',\n",
    "#                     \"problem_type\"     : 'regression'\n",
    "#                 }\n",
    "\n",
    "# hyperparameters = { \n",
    "#                     'GBM'   : {}, \n",
    "#                     'FASTAI': {}, \n",
    "#                     'RF'    : {'criterion': 'squared_error', \n",
    "#                                 'ag_args': {'name_suffix': 'MSE', \n",
    "#                                 'problem_types': ['regression', 'quantile']}}\n",
    "#                     }"
   ]
  },
  {
   "cell_type": "markdown",
   "metadata": {},
   "source": [
    "### Normal Model fitting"
   ]
  },
  {
   "cell_type": "code",
   "execution_count": null,
   "metadata": {},
   "outputs": [],
   "source": [
    "# predictor = TabularPredictor(**predictorArgs)\n",
    "# predictor.fit(training_data, hyperparameters=hyperparameters)\n",
    "# leaderboard = predictor.leaderboard(training_data, silent=True)\n",
    "# leaderboard"
   ]
  },
  {
   "cell_type": "markdown",
   "metadata": {},
   "source": [
    "### Cross Validation fitting"
   ]
  },
  {
   "cell_type": "code",
   "execution_count": null,
   "metadata": {},
   "outputs": [],
   "source": [
    "# predictor_cv = TabularPredictor(**predictorArgs) \n",
    "# predictor_cv.fit(training_data, presets=\"best_quality\", num_stack_levels= 0, hyperparameters=hyperparameters)\n",
    "# leaderboard_cv = predictor_cv.leaderboard(training_data, silent=True)\n",
    "# leaderboard_cv"
   ]
  },
  {
   "cell_type": "markdown",
   "metadata": {},
   "source": [
    "### predicting and saving arrays "
   ]
  },
  {
   "cell_type": "code",
   "execution_count": null,
   "metadata": {},
   "outputs": [],
   "source": [
    "# models = {  'normal'            : list(leaderboard['model']), \n",
    "#             'crossValidation'   : list(np.append(leaderboard_cv['model'], ['oof']))}\n",
    "\n",
    "# predictors = { 'normal'          : predictor, \n",
    "#                'crossValidation' : predictor_cv}\n",
    "\n",
    "# # check if path is available, else create it. \n",
    "# pred_path = os.path.join(\"./../predictions/\", dataset_name)\n",
    "# if not os.path.isdir(pred_path):\n",
    "#     os.mkdir(pred_path)\n",
    "\n",
    "# for model_type in models.keys():\n",
    "#     if model_type == \"normal\": \n",
    "#         for model in models[model_type]:\n",
    "#             savepath = os.path.join(pred_path, model+\".npy\")\n",
    "#             predictions = predictors[model_type].predict(data_without_label, model=model)\n",
    "#             np.save(savepath, np.array(predictions))\n",
    "#     elif model_type == \"crossValidation\":\n",
    "#         for model in models[model_type]:\n",
    "#             if model == \"oof\":\n",
    "#                 predictions = predictors[model_type].get_oof_pred()\n",
    "#                 savepath = os.path.join(pred_path, model+\".npy\")\n",
    "#             elif model in models['normal']:\n",
    "#                 predictions = predictors[model_type].predict(data_without_label, model=model)\n",
    "#                 savepath = os.path.join(pred_path, model+\"_CV.npy\")\n",
    "#             else: \n",
    "#                 predictions = predictors[model_type].predict(data_without_label, model=model)\n",
    "#                 savepath = os.path.join(pred_path, model+\".npy\")\n",
    "\n",
    "#             np.save(savepath, np.array(predictions))"
   ]
  },
  {
   "cell_type": "code",
   "execution_count": null,
   "metadata": {},
   "outputs": [],
   "source": []
  }
 ],
 "metadata": {
  "kernelspec": {
   "display_name": "Python 3.9.15 ('cleanlab_env': venv)",
   "language": "python",
   "name": "python3"
  },
  "language_info": {
   "codemirror_mode": {
    "name": "ipython",
    "version": 3
   },
   "file_extension": ".py",
   "mimetype": "text/x-python",
   "name": "python",
   "nbconvert_exporter": "python",
   "pygments_lexer": "ipython3",
   "version": "3.9.15"
  },
  "orig_nbformat": 4,
  "vscode": {
   "interpreter": {
    "hash": "9ec5147ab5bbc74496efa97232afb589cdbea0c15a514f90cf1ef23ccb9e83f9"
   }
  }
 },
 "nbformat": 4,
 "nbformat_minor": 2
}
